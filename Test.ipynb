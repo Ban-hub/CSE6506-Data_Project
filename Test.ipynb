{
  "cells": [
    {
      "cell_type": "markdown",
      "metadata": {
        "id": "4sK1malYGx4_"
      },
      "source": [
        "### Workflow:\n",
        "\n",
        "- Before start:\n",
        "    - Add files\n",
        "    - Combine all files\n",
        "    - import libraries\n",
        "- Experiment:\n",
        "    - EVERYTHING"
      ]
    },
    {
      "cell_type": "code",
      "execution_count": null,
      "metadata": {
        "id": "w0UP9v-RGx5B",
        "outputId": "bebbc7ed-dd48-4c8e-f1d4-fd564f66101a",
        "colab": {
          "base_uri": "https://localhost:8080/"
        }
      },
      "outputs": [
        {
          "output_type": "stream",
          "name": "stdout",
          "text": [
            "Help! Please\n",
            " :')\n"
          ]
        }
      ],
      "source": [
        "print(\"Help! Please\\n :')\")"
      ]
    },
    {
      "cell_type": "code",
      "source": [
        "import os\n",
        "\n",
        "def list_files_in_current_directory():\n",
        "    # Get the current directory\n",
        "    current_directory = os.getcwd()\n",
        "\n",
        "    # List all files in the current directory\n",
        "    files = os.listdir(current_directory)\n",
        "\n",
        "    # Print each file\n",
        "    for file in files:\n",
        "        # Check if the path is a file (not a directory)\n",
        "        if os.path.isfile(os.path.join(current_directory, file)):\n",
        "            print(file)\n",
        "\n",
        "# Call the function to list files in the current directory\n",
        "list_files_in_current_directory()\n"
      ],
      "metadata": {
        "id": "VCx1QrnZOBXq"
      },
      "execution_count": 6,
      "outputs": []
    }
  ],
  "metadata": {
    "kernelspec": {
      "display_name": "Python 3",
      "language": "python",
      "name": "python3"
    },
    "language_info": {
      "codemirror_mode": {
        "name": "ipython",
        "version": 3
      },
      "file_extension": ".py",
      "mimetype": "text/x-python",
      "name": "python",
      "nbconvert_exporter": "python",
      "pygments_lexer": "ipython3",
      "version": "3.10.4"
    },
    "colab": {
      "provenance": []
    }
  },
  "nbformat": 4,
  "nbformat_minor": 0
}