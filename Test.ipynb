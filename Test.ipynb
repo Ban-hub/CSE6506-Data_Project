{
  "cells": [
    {
      "cell_type": "markdown",
      "metadata": {
        "id": "4sK1malYGx4_"
      },
      "source": [
        "### Workflow:\n",
        "\n",
        "- Before start:\n",
        "    - Add files\n",
        "    - Combine all files\n",
        "    - import libraries\n",
        "- Experiment:\n",
        "    - EVERYTHING"
      ]
    },
    {
      "cell_type": "code",
      "execution_count": 1,
      "metadata": {
        "id": "w0UP9v-RGx5B",
        "outputId": "bebbc7ed-dd48-4c8e-f1d4-fd564f66101a",
        "colab": {
          "base_uri": "https://localhost:8080/"
        }
      },
      "outputs": [
        {
          "output_type": "stream",
          "name": "stdout",
          "text": [
            "Help! Please\n",
            " :')\n"
          ]
        }
      ],
      "source": [
        "print(\"Help! Please\\n :')\")"
      ]
    }
  ],
  "metadata": {
    "kernelspec": {
      "display_name": "Python 3",
      "language": "python",
      "name": "python3"
    },
    "language_info": {
      "codemirror_mode": {
        "name": "ipython",
        "version": 3
      },
      "file_extension": ".py",
      "mimetype": "text/x-python",
      "name": "python",
      "nbconvert_exporter": "python",
      "pygments_lexer": "ipython3",
      "version": "3.10.4"
    },
    "colab": {
      "provenance": []
    }
  },
  "nbformat": 4,
  "nbformat_minor": 0
}